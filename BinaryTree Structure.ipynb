{
 "cells": [
  {
   "cell_type": "code",
   "execution_count": 1,
   "metadata": {},
   "outputs": [],
   "source": [
    "import pandas as pd #Used to display the traverse types by examples"
   ]
  },
  {
   "cell_type": "markdown",
   "metadata": {},
   "source": [
    "# BinaryTree Class"
   ]
  },
  {
   "cell_type": "code",
   "execution_count": 2,
   "metadata": {},
   "outputs": [],
   "source": [
    "class Node:\n",
    "    def __init__(self, value):\n",
    "        self.value = value\n",
    "        self.leftChild = None\n",
    "        self.rightChild = None\n",
    "              \n",
    "class BinaryTree:\n",
    "    def __init__(self, value):\n",
    "        self.root = Node(value)\n",
    "    \n",
    "    #Traverse as class methods\n",
    "    #Depth-First\n",
    "    def preorder(self, start_node):\n",
    "        if start_node:\n",
    "            print(start_node.value)\n",
    "            self.preorder(start_node.leftChild)\n",
    "            self.preorder(start_node.rightChild)\n",
    "            \n",
    "    def inorder(self, start_node):\n",
    "        if start_node:\n",
    "            self.inorder(start_node.leftChild)\n",
    "            print(start_node.value)\n",
    "            self.inorder(start_node.rightChild)\n",
    "        \n",
    "    def postorder(self, start_node):\n",
    "        if node:\n",
    "            self.postorder(start_node.leftChild)\n",
    "            self.postorder(start_node.rightChild)\n",
    "            print(start_node.value)\n",
    "    \n",
    "    #Breadth-First\n",
    "    def levelorder(self, tree):\n",
    "        tree_list = [tree.root]\n",
    "\n",
    "        for i in tree_list:\n",
    "            left = i.leftChild\n",
    "            right = i.rightChild\n",
    "            if left:\n",
    "                tree_list.append(left)\n",
    "            if right:\n",
    "                tree_list.append(right)\n",
    "\n",
    "        level = []\n",
    "        for i in tree_list:\n",
    "            level.append(i.value)\n",
    "        return level\n",
    "        \n",
    "    def reverse_levelorder(self, tree):\n",
    "        tree_list = [tree.root]\n",
    "\n",
    "        for i in tree_list:\n",
    "            left = i.leftChild\n",
    "            right = i.rightChild\n",
    "            if right:\n",
    "                tree_list.append(right)\n",
    "            if left:\n",
    "                tree_list.append(left)\n",
    "\n",
    "        reverse = []\n",
    "        tot = len(tree_list)\n",
    "        for i in range(tot):\n",
    "            reverse.append(tree_list.pop().value)\n",
    "        return reverse\n",
    "    \n",
    "    # Tree Height as class method\n",
    "    def tree_height(self, node):\n",
    "        if node == None:\n",
    "            return -1\n",
    "\n",
    "        left = self.tree_height(node.leftChild)\n",
    "        right = self.tree_height(node.rightChild)\n",
    "\n",
    "        return 1 + max(left, right)\n",
    "    \n",
    "    def tree_size(self, node):\n",
    "        if node is None:\n",
    "            return 0\n",
    "        left = self.tree_size(node.leftChild)\n",
    "        right = self.tree_size(node.rightChild)\n",
    "        return 1 + left + right"
   ]
  },
  {
   "cell_type": "markdown",
   "metadata": {},
   "source": [
    "# Traverse as functions \n",
    "Usually we traverse through a binary tree to alter (modify/remove/insert) something to it. It therefor might be more benefical to rather use it as a function than method "
   ]
  },
  {
   "cell_type": "markdown",
   "metadata": {},
   "source": [
    "## Depth-First traversal"
   ]
  },
  {
   "cell_type": "code",
   "execution_count": 3,
   "metadata": {},
   "outputs": [],
   "source": [
    "def preorder(node, order_list):\n",
    "    if node:\n",
    "        #print(node.value)\n",
    "        order_list.append(node.value)\n",
    "        preorder(node.leftChild, order_list)\n",
    "        preorder(node.rightChild, order_list)\n",
    "    return order_list\n",
    "\n",
    "def inorder(node, order_list):\n",
    "    if node:\n",
    "        inorder(node.leftChild, order_list)\n",
    "        #print(node.value, order_list)\n",
    "        order_list.append(node.value)\n",
    "        inorder(node.rightChild, order_list)\n",
    "    return order_list\n",
    "        \n",
    "def postorder(node, order_list):\n",
    "    if node:\n",
    "        postorder(node.leftChild, order_list)\n",
    "        postorder(node.rightChild, order_list)\n",
    "        #print(node.value)\n",
    "        order_list.append(node.value)\n",
    "    return order_list"
   ]
  },
  {
   "cell_type": "markdown",
   "metadata": {},
   "source": [
    "## Breadth-First (Level-order) traversal"
   ]
  },
  {
   "cell_type": "code",
   "execution_count": 4,
   "metadata": {},
   "outputs": [],
   "source": [
    "def levelorder(tree):\n",
    "    tree_list = [tree.root]\n",
    "    \n",
    "    for i in tree_list:\n",
    "        left = i.leftChild\n",
    "        right = i.rightChild\n",
    "        if left:\n",
    "            tree_list.append(left)\n",
    "        if right:\n",
    "            tree_list.append(right)\n",
    "    \n",
    "    level = []\n",
    "    for i in tree_list:\n",
    "        level.append(i.value)\n",
    "    return level\n",
    "        \n",
    "def reverse_levelorder(tree):\n",
    "    tree_list = [tree.root]\n",
    "    \n",
    "    for i in tree_list:\n",
    "        left = i.leftChild\n",
    "        right = i.rightChild\n",
    "        if right:\n",
    "            tree_list.append(right)\n",
    "        if left:\n",
    "            tree_list.append(left)\n",
    "    \n",
    "    reverse = []\n",
    "    tot = len(tree_list)\n",
    "    for i in range(tot):\n",
    "        reverse.append(tree_list.pop().value)\n",
    "    return reverse"
   ]
  },
  {
   "cell_type": "markdown",
   "metadata": {},
   "source": [
    "# Height of Tree as function\n",
    "The number of edges on the longest path between the node and a leaf"
   ]
  },
  {
   "cell_type": "code",
   "execution_count": 5,
   "metadata": {},
   "outputs": [],
   "source": [
    "def tree_height(node):\n",
    "    if node == None:\n",
    "        return -1\n",
    "    \n",
    "    left = tree_height(node.leftChild)\n",
    "    right = tree_height(node.rightChild)\n",
    "    \n",
    "    return 1 + max(left, right)"
   ]
  },
  {
   "cell_type": "markdown",
   "metadata": {},
   "source": [
    "# Size of Tree as function\n",
    "Total number of nodes in a Tree"
   ]
  },
  {
   "cell_type": "code",
   "execution_count": 6,
   "metadata": {},
   "outputs": [],
   "source": [
    "# Recursive\n",
    "def tree_size(node):\n",
    "    if node is None:\n",
    "        return 0\n",
    "    left = tree_size(node.leftChild)\n",
    "    right = tree_size(node.rightChild)\n",
    "    return 1 + left + right\n",
    "\n",
    "def tree_size1(node, node_list):\n",
    "    if node:\n",
    "        node_list.append(node.value)\n",
    "        tree_size(node.leftChild, node_list)\n",
    "        tree_size(node.rightChild, node_list)\n",
    "    return len(node_list)"
   ]
  },
  {
   "cell_type": "code",
   "execution_count": 7,
   "metadata": {},
   "outputs": [],
   "source": [
    "# Iterative\n",
    "def tree_size2(node):\n",
    "    if node is None:\n",
    "        return 0\n",
    "    node_list = [node]\n",
    "    for i in node_list:\n",
    "        if i.leftChild:\n",
    "            node_list.append(i.leftChild)\n",
    "        if i.rightChild:\n",
    "            node_list.append(i.rightChild)\n",
    "    return len(node_list)"
   ]
  },
  {
   "cell_type": "markdown",
   "metadata": {},
   "source": [
    "# Book Tree Example"
   ]
  },
  {
   "cell_type": "markdown",
   "metadata": {},
   "source": [
    "                                                    Book\n",
    "                                         /                        \\\n",
    "                                      Ch 1                         Ch 2\n",
    "                                  /           \\                 /          \\ \n",
    "                              S1.1           S1.2            S2.1          S2.2\n",
    "                            /      \\       /      \\        /      \\        /    \\\n",
    "                        S1.1.1 S1.1.2   S1.2.1 S1.2.2    S2.1.1 S2.1.2   S2.1.1 S2.1.2\n",
    "                                  "
   ]
  },
  {
   "cell_type": "code",
   "execution_count": 8,
   "metadata": {},
   "outputs": [],
   "source": [
    "book = BinaryTree(\"Book\")\n",
    "book.root.leftChild = Node(\"Chapter 1\")\n",
    "book.root.rightChild = Node(\"Chapter 2\")\n",
    "book.root.leftChild.leftChild = Node(\"Section 1.1\")\n",
    "book.root.leftChild.rightChild = Node(\"Section 1.2\")\n",
    "book.root.leftChild.leftChild.leftChild = Node(\"Section 1.1.1\")\n",
    "book.root.leftChild.leftChild.rightChild = Node(\"Section 1.1.2\")\n",
    "book.root.leftChild.rightChild.leftChild = Node(\"Section 1.2.1\")\n",
    "book.root.leftChild.rightChild.rightChild = Node(\"Section 1.2.2\")\n",
    "book.root.rightChild.leftChild = Node(\"Section 2.1\")\n",
    "book.root.rightChild.rightChild = Node(\"Section 2.2\")\n",
    "book.root.rightChild.leftChild.leftChild = Node(\"Section 2.1.1\")\n",
    "book.root.rightChild.leftChild.rightChild = Node(\"Section 2.1.2\")\n",
    "book.root.rightChild.rightChild.leftChild = Node(\"Section 2.2.1\")\n",
    "book.root.rightChild.rightChild.rightChild = Node(\"Section 2.2.2\")"
   ]
  },
  {
   "cell_type": "code",
   "execution_count": 9,
   "metadata": {},
   "outputs": [
    {
     "data": {
      "text/plain": [
       "(3, 3)"
      ]
     },
     "execution_count": 9,
     "metadata": {},
     "output_type": "execute_result"
    }
   ],
   "source": [
    "tree_height(book.root), book.tree_height(book.root)"
   ]
  },
  {
   "cell_type": "code",
   "execution_count": 10,
   "metadata": {},
   "outputs": [
    {
     "data": {
      "text/plain": [
       "(15, 15)"
      ]
     },
     "execution_count": 10,
     "metadata": {},
     "output_type": "execute_result"
    }
   ],
   "source": [
    "tree_size(book.root), book.tree_size(book.root)"
   ]
  },
  {
   "cell_type": "code",
   "execution_count": 11,
   "metadata": {},
   "outputs": [
    {
     "data": {
      "text/html": [
       "<div>\n",
       "<style scoped>\n",
       "    .dataframe tbody tr th:only-of-type {\n",
       "        vertical-align: middle;\n",
       "    }\n",
       "\n",
       "    .dataframe tbody tr th {\n",
       "        vertical-align: top;\n",
       "    }\n",
       "\n",
       "    .dataframe thead th {\n",
       "        text-align: right;\n",
       "    }\n",
       "</style>\n",
       "<table border=\"1\" class=\"dataframe\">\n",
       "  <thead>\n",
       "    <tr style=\"text-align: right;\">\n",
       "      <th></th>\n",
       "      <th>Preorder</th>\n",
       "      <th>Inorder</th>\n",
       "      <th>Postorder</th>\n",
       "      <th>Levelorder</th>\n",
       "      <th>Reverse Levelorder</th>\n",
       "    </tr>\n",
       "  </thead>\n",
       "  <tbody>\n",
       "    <tr>\n",
       "      <th>0</th>\n",
       "      <td>Book</td>\n",
       "      <td>Section 1.1.1</td>\n",
       "      <td>Section 1.1.1</td>\n",
       "      <td>Book</td>\n",
       "      <td>Section 1.1.1</td>\n",
       "    </tr>\n",
       "    <tr>\n",
       "      <th>1</th>\n",
       "      <td>Chapter 1</td>\n",
       "      <td>Section 1.1</td>\n",
       "      <td>Section 1.1.2</td>\n",
       "      <td>Chapter 1</td>\n",
       "      <td>Section 1.1.2</td>\n",
       "    </tr>\n",
       "    <tr>\n",
       "      <th>2</th>\n",
       "      <td>Section 1.1</td>\n",
       "      <td>Section 1.1.2</td>\n",
       "      <td>Section 1.1</td>\n",
       "      <td>Chapter 2</td>\n",
       "      <td>Section 1.2.1</td>\n",
       "    </tr>\n",
       "    <tr>\n",
       "      <th>3</th>\n",
       "      <td>Section 1.1.1</td>\n",
       "      <td>Chapter 1</td>\n",
       "      <td>Section 1.2.1</td>\n",
       "      <td>Section 1.1</td>\n",
       "      <td>Section 1.2.2</td>\n",
       "    </tr>\n",
       "    <tr>\n",
       "      <th>4</th>\n",
       "      <td>Section 1.1.2</td>\n",
       "      <td>Section 1.2.1</td>\n",
       "      <td>Section 1.2.2</td>\n",
       "      <td>Section 1.2</td>\n",
       "      <td>Section 2.1.1</td>\n",
       "    </tr>\n",
       "    <tr>\n",
       "      <th>5</th>\n",
       "      <td>Section 1.2</td>\n",
       "      <td>Section 1.2</td>\n",
       "      <td>Section 1.2</td>\n",
       "      <td>Section 2.1</td>\n",
       "      <td>Section 2.1.2</td>\n",
       "    </tr>\n",
       "    <tr>\n",
       "      <th>6</th>\n",
       "      <td>Section 1.2.1</td>\n",
       "      <td>Section 1.2.2</td>\n",
       "      <td>Chapter 1</td>\n",
       "      <td>Section 2.2</td>\n",
       "      <td>Section 2.2.1</td>\n",
       "    </tr>\n",
       "    <tr>\n",
       "      <th>7</th>\n",
       "      <td>Section 1.2.2</td>\n",
       "      <td>Book</td>\n",
       "      <td>Section 2.1.1</td>\n",
       "      <td>Section 1.1.1</td>\n",
       "      <td>Section 2.2.2</td>\n",
       "    </tr>\n",
       "    <tr>\n",
       "      <th>8</th>\n",
       "      <td>Chapter 2</td>\n",
       "      <td>Section 2.1.1</td>\n",
       "      <td>Section 2.1.2</td>\n",
       "      <td>Section 1.1.2</td>\n",
       "      <td>Section 1.1</td>\n",
       "    </tr>\n",
       "    <tr>\n",
       "      <th>9</th>\n",
       "      <td>Section 2.1</td>\n",
       "      <td>Section 2.1</td>\n",
       "      <td>Section 2.1</td>\n",
       "      <td>Section 1.2.1</td>\n",
       "      <td>Section 1.2</td>\n",
       "    </tr>\n",
       "    <tr>\n",
       "      <th>10</th>\n",
       "      <td>Section 2.1.1</td>\n",
       "      <td>Section 2.1.2</td>\n",
       "      <td>Section 2.2.1</td>\n",
       "      <td>Section 1.2.2</td>\n",
       "      <td>Section 2.1</td>\n",
       "    </tr>\n",
       "    <tr>\n",
       "      <th>11</th>\n",
       "      <td>Section 2.1.2</td>\n",
       "      <td>Chapter 2</td>\n",
       "      <td>Section 2.2.2</td>\n",
       "      <td>Section 2.1.1</td>\n",
       "      <td>Section 2.2</td>\n",
       "    </tr>\n",
       "    <tr>\n",
       "      <th>12</th>\n",
       "      <td>Section 2.2</td>\n",
       "      <td>Section 2.2.1</td>\n",
       "      <td>Section 2.2</td>\n",
       "      <td>Section 2.1.2</td>\n",
       "      <td>Chapter 1</td>\n",
       "    </tr>\n",
       "    <tr>\n",
       "      <th>13</th>\n",
       "      <td>Section 2.2.1</td>\n",
       "      <td>Section 2.2</td>\n",
       "      <td>Chapter 2</td>\n",
       "      <td>Section 2.2.1</td>\n",
       "      <td>Chapter 2</td>\n",
       "    </tr>\n",
       "    <tr>\n",
       "      <th>14</th>\n",
       "      <td>Section 2.2.2</td>\n",
       "      <td>Section 2.2.2</td>\n",
       "      <td>Book</td>\n",
       "      <td>Section 2.2.2</td>\n",
       "      <td>Book</td>\n",
       "    </tr>\n",
       "  </tbody>\n",
       "</table>\n",
       "</div>"
      ],
      "text/plain": [
       "         Preorder        Inorder      Postorder     Levelorder  \\\n",
       "0            Book  Section 1.1.1  Section 1.1.1           Book   \n",
       "1       Chapter 1    Section 1.1  Section 1.1.2      Chapter 1   \n",
       "2     Section 1.1  Section 1.1.2    Section 1.1      Chapter 2   \n",
       "3   Section 1.1.1      Chapter 1  Section 1.2.1    Section 1.1   \n",
       "4   Section 1.1.2  Section 1.2.1  Section 1.2.2    Section 1.2   \n",
       "5     Section 1.2    Section 1.2    Section 1.2    Section 2.1   \n",
       "6   Section 1.2.1  Section 1.2.2      Chapter 1    Section 2.2   \n",
       "7   Section 1.2.2           Book  Section 2.1.1  Section 1.1.1   \n",
       "8       Chapter 2  Section 2.1.1  Section 2.1.2  Section 1.1.2   \n",
       "9     Section 2.1    Section 2.1    Section 2.1  Section 1.2.1   \n",
       "10  Section 2.1.1  Section 2.1.2  Section 2.2.1  Section 1.2.2   \n",
       "11  Section 2.1.2      Chapter 2  Section 2.2.2  Section 2.1.1   \n",
       "12    Section 2.2  Section 2.2.1    Section 2.2  Section 2.1.2   \n",
       "13  Section 2.2.1    Section 2.2      Chapter 2  Section 2.2.1   \n",
       "14  Section 2.2.2  Section 2.2.2           Book  Section 2.2.2   \n",
       "\n",
       "   Reverse Levelorder  \n",
       "0       Section 1.1.1  \n",
       "1       Section 1.1.2  \n",
       "2       Section 1.2.1  \n",
       "3       Section 1.2.2  \n",
       "4       Section 2.1.1  \n",
       "5       Section 2.1.2  \n",
       "6       Section 2.2.1  \n",
       "7       Section 2.2.2  \n",
       "8         Section 1.1  \n",
       "9         Section 1.2  \n",
       "10        Section 2.1  \n",
       "11        Section 2.2  \n",
       "12          Chapter 1  \n",
       "13          Chapter 2  \n",
       "14               Book  "
      ]
     },
     "execution_count": 11,
     "metadata": {},
     "output_type": "execute_result"
    }
   ],
   "source": [
    "book_pre = preorder(book.root, [])\n",
    "book_in = inorder(book.root, [])\n",
    "book_post = postorder(book.root, [])\n",
    "book_level = levelorder(book)\n",
    "book_reverse = reverse_levelorder(book)\n",
    "book_list = pd.DataFrame([book_pre, book_in, book_post, book_level, book_reverse]).transpose()\n",
    "book_list.columns = ['Preorder', 'Inorder', 'Postorder', 'Levelorder', 'Reverse Levelorder']\n",
    "book_list"
   ]
  },
  {
   "cell_type": "markdown",
   "metadata": {},
   "source": [
    "# Number Tree Example"
   ]
  },
  {
   "cell_type": "markdown",
   "metadata": {},
   "source": [
    "                                                1\n",
    "                                            /       \\\n",
    "                                           2         3\n",
    "                                          / \\       / \\\n",
    "                                         4   5     6   7"
   ]
  },
  {
   "cell_type": "code",
   "execution_count": 12,
   "metadata": {},
   "outputs": [],
   "source": [
    "num = BinaryTree(1)\n",
    "num.root.leftChild = Node(2)\n",
    "num.root.rightChild = Node(3)\n",
    "num.root.leftChild.leftChild = Node(4)\n",
    "num.root.leftChild.rightChild = Node(5)\n",
    "num.root.rightChild.leftChild = Node(6)\n",
    "num.root.rightChild.rightChild = Node(7)"
   ]
  },
  {
   "cell_type": "code",
   "execution_count": 13,
   "metadata": {},
   "outputs": [
    {
     "data": {
      "text/plain": [
       "(2, 2)"
      ]
     },
     "execution_count": 13,
     "metadata": {},
     "output_type": "execute_result"
    }
   ],
   "source": [
    "tree_height(num.root), num.tree_height(num.root)"
   ]
  },
  {
   "cell_type": "code",
   "execution_count": 14,
   "metadata": {},
   "outputs": [
    {
     "data": {
      "text/plain": [
       "(7, 7)"
      ]
     },
     "execution_count": 14,
     "metadata": {},
     "output_type": "execute_result"
    }
   ],
   "source": [
    "tree_size(num.root), num.tree_size(num.root)"
   ]
  },
  {
   "cell_type": "code",
   "execution_count": 15,
   "metadata": {},
   "outputs": [
    {
     "data": {
      "text/html": [
       "<div>\n",
       "<style scoped>\n",
       "    .dataframe tbody tr th:only-of-type {\n",
       "        vertical-align: middle;\n",
       "    }\n",
       "\n",
       "    .dataframe tbody tr th {\n",
       "        vertical-align: top;\n",
       "    }\n",
       "\n",
       "    .dataframe thead th {\n",
       "        text-align: right;\n",
       "    }\n",
       "</style>\n",
       "<table border=\"1\" class=\"dataframe\">\n",
       "  <thead>\n",
       "    <tr style=\"text-align: right;\">\n",
       "      <th></th>\n",
       "      <th>Preorder</th>\n",
       "      <th>Inorder</th>\n",
       "      <th>Postorder</th>\n",
       "      <th>Levelorder</th>\n",
       "      <th>Reverse Levelorder</th>\n",
       "    </tr>\n",
       "  </thead>\n",
       "  <tbody>\n",
       "    <tr>\n",
       "      <th>0</th>\n",
       "      <td>1</td>\n",
       "      <td>4</td>\n",
       "      <td>4</td>\n",
       "      <td>1</td>\n",
       "      <td>4</td>\n",
       "    </tr>\n",
       "    <tr>\n",
       "      <th>1</th>\n",
       "      <td>2</td>\n",
       "      <td>2</td>\n",
       "      <td>5</td>\n",
       "      <td>2</td>\n",
       "      <td>5</td>\n",
       "    </tr>\n",
       "    <tr>\n",
       "      <th>2</th>\n",
       "      <td>4</td>\n",
       "      <td>5</td>\n",
       "      <td>2</td>\n",
       "      <td>3</td>\n",
       "      <td>6</td>\n",
       "    </tr>\n",
       "    <tr>\n",
       "      <th>3</th>\n",
       "      <td>5</td>\n",
       "      <td>1</td>\n",
       "      <td>6</td>\n",
       "      <td>4</td>\n",
       "      <td>7</td>\n",
       "    </tr>\n",
       "    <tr>\n",
       "      <th>4</th>\n",
       "      <td>3</td>\n",
       "      <td>6</td>\n",
       "      <td>7</td>\n",
       "      <td>5</td>\n",
       "      <td>2</td>\n",
       "    </tr>\n",
       "    <tr>\n",
       "      <th>5</th>\n",
       "      <td>6</td>\n",
       "      <td>3</td>\n",
       "      <td>3</td>\n",
       "      <td>6</td>\n",
       "      <td>3</td>\n",
       "    </tr>\n",
       "    <tr>\n",
       "      <th>6</th>\n",
       "      <td>7</td>\n",
       "      <td>7</td>\n",
       "      <td>1</td>\n",
       "      <td>7</td>\n",
       "      <td>1</td>\n",
       "    </tr>\n",
       "  </tbody>\n",
       "</table>\n",
       "</div>"
      ],
      "text/plain": [
       "   Preorder  Inorder  Postorder  Levelorder  Reverse Levelorder\n",
       "0         1        4          4           1                   4\n",
       "1         2        2          5           2                   5\n",
       "2         4        5          2           3                   6\n",
       "3         5        1          6           4                   7\n",
       "4         3        6          7           5                   2\n",
       "5         6        3          3           6                   3\n",
       "6         7        7          1           7                   1"
      ]
     },
     "execution_count": 15,
     "metadata": {},
     "output_type": "execute_result"
    }
   ],
   "source": [
    "num_pre = preorder(num.root, [])\n",
    "num_in = inorder(num.root, [])\n",
    "num_post = postorder(num.root, [])\n",
    "num_level = levelorder(num)\n",
    "num_reverse = reverse_levelorder(num)\n",
    "num_list = pd.DataFrame([num_pre, num_in, num_post, num_level, num_reverse]).transpose()\n",
    "num_list.columns = ['Preorder', 'Inorder', 'Postorder', 'Levelorder', 'Reverse Levelorder']\n",
    "num_list"
   ]
  }
 ],
 "metadata": {
  "kernelspec": {
   "display_name": "Python 3",
   "language": "python",
   "name": "python3"
  },
  "language_info": {
   "codemirror_mode": {
    "name": "ipython",
    "version": 3
   },
   "file_extension": ".py",
   "mimetype": "text/x-python",
   "name": "python",
   "nbconvert_exporter": "python",
   "pygments_lexer": "ipython3",
   "version": "3.7.0"
  }
 },
 "nbformat": 4,
 "nbformat_minor": 2
}
