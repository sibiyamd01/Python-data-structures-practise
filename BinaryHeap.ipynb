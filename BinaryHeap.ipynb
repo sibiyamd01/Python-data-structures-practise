{
 "cells": [
  {
   "cell_type": "code",
   "execution_count": 1,
   "metadata": {},
   "outputs": [],
   "source": [
    "class MinBinaryHeap:\n",
    "    def __init__(self):\n",
    "        self.heapList = [0] #First item is a dummy 0 to make implimentation easy\n",
    "        self.currentSize = 0\n",
    "        \n",
    "    def insert(self,value):\n",
    "        self.heapList.append(value)\n",
    "        self.currentSize += 1\n",
    "        self._percUp(self.currentSize)\n",
    "                \n",
    "    def _percUp(self, child):\n",
    "        '''\n",
    "        Compare recently added element at bottom with its parent. If it is smaller, \n",
    "        swap with parent and continue checking up the list. Else stop \n",
    "        '''\n",
    "        parent = child // 2\n",
    "        \n",
    "        if parent > 0 and self.heapList[child] < self.heapList[parent]:\n",
    "            temp = self.heapList[parent]\n",
    "            self.heapList[parent] = self.heapList[child]\n",
    "            self.heapList[child] = temp\n",
    "            self._percUp(parent)\n",
    "\n",
    "    def delMin(self):\n",
    "        if self.isEmpty():\n",
    "            return -1\n",
    "        \n",
    "        min_val = self.heapList.pop(1)\n",
    "        self.heapList.insert(1, self.heapList.pop())\n",
    "        self.currentSize -= 1\n",
    "        self._percDown(1)\n",
    "        return min_val\n",
    "        \n",
    "    def _percDown(self, parent):\n",
    "        '''\n",
    "        After deleting root, take previous last element and make new root. \n",
    "        Compare the root with smallest child, if root is larger, swap and\n",
    "        continue checking down the list. Else stop\n",
    "        '''\n",
    "        left_child = 2 * parent\n",
    "        right_child = 2 * parent + 1\n",
    "        smallest = parent\n",
    "        \n",
    "        if (right_child <= self.currentSize):\n",
    "            if (self.heapList[smallest] > self.heapList[right_child]):\n",
    "                smallest = right_child\n",
    "                \n",
    "        if (left_child <= self.currentSize):\n",
    "            if (self.heapList[smallest] > self.heapList[left_child]):\n",
    "                smallest = left_child\n",
    "                \n",
    "        if smallest != parent:\n",
    "            temp = self.heapList[smallest]\n",
    "            self.heapList[smallest] = self.heapList[parent]\n",
    "            self.heapList[parent] = temp\n",
    "            self._percDown(smallest)\n",
    "                  \n",
    "    def _buildHeap1(self, new_list):\n",
    "        self.heapList = [0]\n",
    "        self.currentSize = 0\n",
    "            \n",
    "        for i in new_list:\n",
    "            self.insert(i)\n",
    "            \n",
    "    def findMin(self):\n",
    "        if self.isEmpty():\n",
    "            return -1\n",
    "        \n",
    "        return self.heapList[1]\n",
    "    \n",
    "    def isEmpty(self):\n",
    "        return self.currentSize == 0\n",
    "    \n",
    "    def size(self):\n",
    "        return self.currentSize       \n",
    "    \n",
    "    def buildHeap(self,new_list):\n",
    "        i = len(new_list) // 2\n",
    "        self.currentSize = len(new_list)\n",
    "        self.heapList = [0] + new_list[:]\n",
    "        while (i > 0):\n",
    "            self._percDown(i)\n",
    "            i = i - 1"
   ]
  },
  {
   "cell_type": "markdown",
   "metadata": {},
   "source": [
    "# Example"
   ]
  },
  {
   "cell_type": "code",
   "execution_count": 2,
   "metadata": {},
   "outputs": [
    {
     "data": {
      "text/plain": [
       "[0, 5, 9, 11, 14, 18, 19, 21, 33, 17, 27]"
      ]
     },
     "execution_count": 2,
     "metadata": {},
     "output_type": "execute_result"
    }
   ],
   "source": [
    "l = MinBinaryHeap()\n",
    "l.insert(5)\n",
    "l.insert(9)\n",
    "l.insert(11)\n",
    "l.insert(14)\n",
    "l.insert(18)\n",
    "l.insert(19)\n",
    "l.insert(21)\n",
    "l.insert(33)\n",
    "l.insert(17)\n",
    "l.insert(27)\n",
    "l.heapList"
   ]
  },
  {
   "cell_type": "code",
   "execution_count": 3,
   "metadata": {},
   "outputs": [
    {
     "data": {
      "text/plain": [
       "[0, 9, 14, 11, 17, 18, 19, 21, 33, 27]"
      ]
     },
     "execution_count": 3,
     "metadata": {},
     "output_type": "execute_result"
    }
   ],
   "source": [
    "l.delMin()\n",
    "l.heapList"
   ]
  },
  {
   "cell_type": "code",
   "execution_count": 4,
   "metadata": {},
   "outputs": [
    {
     "data": {
      "text/plain": [
       "[0, 1, 9, 11, 17, 14, 19, 21, 33, 27, 18]"
      ]
     },
     "execution_count": 4,
     "metadata": {},
     "output_type": "execute_result"
    }
   ],
   "source": [
    "l.insert(1)\n",
    "l.heapList"
   ]
  },
  {
   "cell_type": "code",
   "execution_count": 5,
   "metadata": {},
   "outputs": [
    {
     "data": {
      "text/plain": [
       "[0, 2, 4, 3, 10, 5, 6, 7]"
      ]
     },
     "execution_count": 5,
     "metadata": {},
     "output_type": "execute_result"
    }
   ],
   "source": [
    "l.buildHeap([5,2,7,10,4,6,3])\n",
    "l.heapList"
   ]
  },
  {
   "cell_type": "code",
   "execution_count": 6,
   "metadata": {},
   "outputs": [
    {
     "data": {
      "text/plain": [
       "[0, 5, 14, 17, 33, 18]"
      ]
     },
     "execution_count": 6,
     "metadata": {},
     "output_type": "execute_result"
    }
   ],
   "source": [
    "l = MinBinaryHeap()\n",
    "l.insert(33)\n",
    "l.insert(17)\n",
    "l.insert(14)\n",
    "l.insert(18)\n",
    "l.insert(5)\n",
    "l.heapList"
   ]
  },
  {
   "cell_type": "markdown",
   "metadata": {},
   "source": [
    "# Iterative forms not used in class"
   ]
  },
  {
   "cell_type": "code",
   "execution_count": 7,
   "metadata": {},
   "outputs": [],
   "source": [
    "def percDown(self, parent):       \n",
    "    while parent <= self.currentSize/2:\n",
    "        left_child = 2 * parent\n",
    "        right_child = 2 * parent + 1\n",
    "\n",
    "        if right_child <= self.currentSize and self.heapList[right_child] < self.heapList[left_child]:\n",
    "            if self.heapList[parent] > self.heapList[right_child]:\n",
    "                temp = self.heapList[right_child]\n",
    "                self.heapList[right_child] = self.heapList[parent]\n",
    "                self.heapList[parent] = temp\n",
    "                parent = right_child\n",
    "            else:\n",
    "                break\n",
    "        else:\n",
    "            if self.heapList[parent] > self.heapList[left_child]:\n",
    "                temp = self.heapList[left_child]\n",
    "                self.heapList[left_child] = self.heapList[parent]\n",
    "                self.heapList[parent] = temp\n",
    "                parent = left_child\n",
    "            else:\n",
    "                break\n"
   ]
  },
  {
   "cell_type": "code",
   "execution_count": 8,
   "metadata": {},
   "outputs": [],
   "source": [
    "def percUp(self,list_size):\n",
    "    '''\n",
    "    Compare recently added element at bottom with its parent. If it is smaller, \n",
    "    swap with parent and continue checking up the list. Else stop \n",
    "    '''\n",
    "    while list_size // 2 > 0:      \n",
    "        if self.heapList[list_size] < self.heapList[list_size // 2]:\n",
    "            temp = self.heapList[list_size // 2]\n",
    "            self.heapList[list_size // 2] = self.heapList[list_size]\n",
    "            self.heapList[list_size] = temp\n",
    "            list_size //= 2\n",
    "        else:\n",
    "            break"
   ]
  }
 ],
 "metadata": {
  "kernelspec": {
   "display_name": "Python 3",
   "language": "python",
   "name": "python3"
  },
  "language_info": {
   "codemirror_mode": {
    "name": "ipython",
    "version": 3
   },
   "file_extension": ".py",
   "mimetype": "text/x-python",
   "name": "python",
   "nbconvert_exporter": "python",
   "pygments_lexer": "ipython3",
   "version": "3.7.0"
  }
 },
 "nbformat": 4,
 "nbformat_minor": 2
}
